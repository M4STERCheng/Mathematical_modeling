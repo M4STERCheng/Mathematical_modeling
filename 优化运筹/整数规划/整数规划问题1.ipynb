{
 "cells": [
  {
   "cell_type": "markdown",
   "id": "192e26a3-9857-4854-8a13-3bee0734c6d2",
   "metadata": {},
   "source": [
    "求解下列混合整数规划模型\n",
    "$$\\max z = 3x_1 + x_2 + 3x_3 + 3$$\n",
    "\n",
    "\n",
    "s.t.\n",
    "\\begin{align*}\n",
    "-x_1 + 2x_2 + x_3 &\\leq 4 \\\\\n",
    " 4x_2 - 3x_3 &\\leq 2 \\\\\n",
    "x_1 - 3x_2 + 2x_3 &\\leq 3 \\\\\n",
    "x_1, x_2, x_3 &\\geq 0  \\\\\n",
    "x_1为整数 \\\\\n",
    "x_3为0-1变量\n",
    "\\end{align*}"
   ]
  },
  {
   "cell_type": "code",
   "execution_count": 3,
   "id": "94c28929-afab-4909-aa5f-2d0bec67c5da",
   "metadata": {},
   "outputs": [
    {
     "name": "stdout",
     "output_type": "stream",
     "text": [
      "Status: Optimal\n",
      "x1的最优值为 4.0\n",
      "x2的最优值为 1.25\n",
      "x3的最优值为 1.0\n",
      "最优解为 19.25\n"
     ]
    }
   ],
   "source": [
    "# 导入PuLP库\n",
    "import pulp\n",
    "\n",
    "# 创建混合整数线性规划问题\n",
    "model = pulp.LpProblem(\"Maximize_Z\", pulp.LpMaximize)\n",
    "\n",
    "# 定义变量\n",
    "x1 = pulp.LpVariable(\"x1\", lowBound=0, cat='Integer')  # x1为整数变量\n",
    "x2 = pulp.LpVariable(\"x2\", lowBound=0)  # x2为非负整数变量\n",
    "x3 = pulp.LpVariable(\"x3\", lowBound=0, upBound=1, cat='Binary')  # x3为0-1变量\n",
    "\n",
    "# 定义目标函数\n",
    "model += 3 * x1 + x2 + 3 * x3 + 3, \"Z\"\n",
    "\n",
    "# 定义约束条件\n",
    "model += -x1 + 2 * x2 + x3 <= 4\n",
    "model += 4 * x2 - 3 * x3 <= 2\n",
    "model += x1 - 3 * x2 + 2 * x3 <= 3\n",
    "\n",
    "# 求解问题\n",
    "model.solve()\n",
    "\n",
    "# 输出结果\n",
    "print(\"Status:\", pulp.LpStatus[model.status])\n",
    "print(\"x1的最优值为\", pulp.value(x1))\n",
    "print(\"x2的最优值为\", pulp.value(x2))\n",
    "print(\"x3的最优值为\", pulp.value(x3))\n",
    "print(\"最优解为\", pulp.value(model.objective))\n"
   ]
  }
 ],
 "metadata": {
  "kernelspec": {
   "display_name": "Python 3 (ipykernel)",
   "language": "python",
   "name": "python3"
  },
  "language_info": {
   "codemirror_mode": {
    "name": "ipython",
    "version": 3
   },
   "file_extension": ".py",
   "mimetype": "text/x-python",
   "name": "python",
   "nbconvert_exporter": "python",
   "pygments_lexer": "ipython3",
   "version": "3.11.5"
  }
 },
 "nbformat": 4,
 "nbformat_minor": 5
}
