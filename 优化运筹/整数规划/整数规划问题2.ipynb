{
 "cells": [
  {
   "cell_type": "markdown",
   "id": "0830e507-7c61-4a2d-8d11-e37b75f0417d",
   "metadata": {},
   "source": [
    "&emsp;&emsp;某服装厂可以生产A、B、B三种服装，生产不同种类服装需要租用不同设备，设备租金、生产成本、销售价格等指标如下表所示。  如果各类服装的市场需求都足够大，服装\n",
    "厂，每月可用人工时为2000小时，如何安排生产计划使利润最大？"
   ]
  },
  {
   "cell_type": "markdown",
   "id": "aad0ebe7-68fb-4ae0-8c00-293cb53418f9",
   "metadata": {},
   "source": [
    "| 服装种类 | 设备租金/元 | 材料成本/元$\\cdot$ 件$^{-1}$ | 销售价格/元$\\cdot$ 件$^{-1}$ | 人工工时/元$\\cdot$ 件$^{-1}$ | 设备工时/元$\\cdot$ 件$^{-1}$ | 设备可用/小时 |\r\n",
    "| :------: | ----------- | -------------------------------- | -------------------------------- | -------------------------------- | -------------------------------- | ------------- |\r\n",
    "|    A    | 5000        | 280                              | 400                              | 5                                | 3                                | 300           |\r\n",
    "|    B    | 2000        | 30                               | 40                               | 1                                | 0.5                              | 300           |\r\n",
    "|    C    | 2000        | 200                              | 300                              | 4                                | 2                                | 300           |\r\n"
   ]
  },
  {
   "cell_type": "markdown",
   "id": "f4818231-1dd5-46dc-b9d5-b52ac133e48b",
   "metadata": {},
   "source": [
    "**分析**  \n",
    "1、变量：  \n",
    "* $x_i$ 为是否生产第 $i$ 种服装的0-1变量\n",
    "* $y_i$ 为生产第 $i$ 种服装的数量(一定为整数)\n",
    "\n",
    "2、约束条件\n",
    "$$max z = 120y_1 + 10y_2 + 100y_3 - 5000x_1 - 2000x_2 - 2000x_3 $$\n",
    "s.t.\n",
    "\\begin{align*}\n",
    "5y_1 + y_2 + 4y_3 \\leq 2000  \\\\\n",
    "3y_1 \\leq 300x_1  \\\\\n",
    "0.5y_2 \\leq 300x_1\\\\\n",
    "2y_3 \\leq 300x_3\\\\\n",
    "0 \\leq y_1 \\leq 100\\\\\n",
    "0 \\leq y_2 \\leq 600\\\\\n",
    "0 \\leq y_3 \\leq 150\\\\\n",
    "\\end{align*}\n"
   ]
  },
  {
   "cell_type": "code",
   "execution_count": 1,
   "id": "732e77c8-e7e4-45ed-bea4-c9adadc5f083",
   "metadata": {},
   "outputs": [
    {
     "name": "stdout",
     "output_type": "stream",
     "text": [
      "Status: Optimal\n",
      "y1 = 100.0\n",
      "y2 = 600.0\n",
      "y3 = 150.0\n",
      "x1 = 1.0\n",
      "x2 = 0.0\n",
      "x3 = 1.0\n",
      "最大值 = 26000.0\n"
     ]
    }
   ],
   "source": [
    "import pulp\n",
    "\n",
    "# 定义问题\n",
    "prob = pulp.LpProblem(\"整数问题\", pulp.LpMaximize)\n",
    "\n",
    "# 定义变量\n",
    "y1 = pulp.LpVariable(\"y1\", lowBound=0, upBound=100, cat='Integer')  # y1为整数变量\n",
    "y2 = pulp.LpVariable(\"y2\", lowBound=0, upBound=600, cat='Integer')  # y2为整数变量\n",
    "y3 = pulp.LpVariable(\"y3\", lowBound=0, upBound=150, cat='Integer')  # y3为整数变量\n",
    "\n",
    "x1 = pulp.LpVariable(\"x1\", lowBound=0, upBound=1, cat='Binary')  # x1为0-1变量\n",
    "x2 = pulp.LpVariable(\"x2\", lowBound=0, upBound=1, cat='Binary')  # x2为0-1变量\n",
    "x3 = pulp.LpVariable(\"x3\", lowBound=0, upBound=1, cat='Binary')  # x3为0-1变量\n",
    "\n",
    "# 定义目标函数\n",
    "prob += 120*y1 + 10*y2 + 100*y3 - 5000*x1 - 2000*x2 - 2000*x3\n",
    "\n",
    "# 添加约束条件\n",
    "prob += 5*y1 + y2 + 4*y3 <= 2000\n",
    "prob += 3*y1 <= 300*x1\n",
    "prob += 0.5*y2 <= 300*x1\n",
    "prob += 2*y3 <= 300*x3\n",
    "\n",
    "# 解决问题\n",
    "prob.solve()\n",
    "\n",
    "# 输出结果\n",
    "print(\"Status:\", pulp.LpStatus[prob.status])\n",
    "print(\"y1 =\", pulp.value(y1))\n",
    "print(\"y2 =\", pulp.value(y2))\n",
    "print(\"y3 =\", pulp.value(y3))\n",
    "print(\"x1 =\", pulp.value(x1))\n",
    "print(\"x2 =\", pulp.value(x2))\n",
    "print(\"x3 =\", pulp.value(x3))\n",
    "print(\"最大值 =\", pulp.value(prob.objective))"
   ]
  }
 ],
 "metadata": {
  "kernelspec": {
   "display_name": "Python 3 (ipykernel)",
   "language": "python",
   "name": "python3"
  },
  "language_info": {
   "codemirror_mode": {
    "name": "ipython",
    "version": 3
   },
   "file_extension": ".py",
   "mimetype": "text/x-python",
   "name": "python",
   "nbconvert_exporter": "python",
   "pygments_lexer": "ipython3",
   "version": "3.11.5"
  }
 },
 "nbformat": 4,
 "nbformat_minor": 5
}
